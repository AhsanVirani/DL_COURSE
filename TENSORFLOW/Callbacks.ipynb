{
 "cells": [
  {
   "cell_type": "code",
   "execution_count": 38,
   "metadata": {},
   "outputs": [],
   "source": [
    "import tensorflow as tf\n",
    "from tensorflow import keras\n",
    "from tensorflow.keras import layers\n",
    "from tensorflow.keras.datasets import mnist"
   ]
  },
  {
   "cell_type": "code",
   "execution_count": 39,
   "metadata": {},
   "outputs": [],
   "source": [
    "# Load data\n",
    "(x_train, y_train), (x_test, y_test) = mnist.load_data()"
   ]
  },
  {
   "cell_type": "code",
   "execution_count": 40,
   "metadata": {},
   "outputs": [
    {
     "data": {
      "text/plain": [
       "((60000, 28, 28), (60000,))"
      ]
     },
     "execution_count": 40,
     "metadata": {},
     "output_type": "execute_result"
    }
   ],
   "source": [
    "x_train.shape, y_train.shape "
   ]
  },
  {
   "cell_type": "code",
   "execution_count": 41,
   "metadata": {},
   "outputs": [],
   "source": [
    "# Flattening the data input for ANN\n",
    "x_train = x_train.reshape(-1, 28, 28, 1).astype(\"float32\") # 28 * 28\n",
    "x_test = x_test.reshape(-1, 28, 28, 1).astype(\"float32\")\n",
    "\n",
    "# normalise\n",
    "x_train = x_train / 255\n",
    "x_test = x_test / 255"
   ]
  },
  {
   "cell_type": "code",
   "execution_count": 42,
   "metadata": {},
   "outputs": [],
   "source": [
    "# Creating model using a Sequential API\n",
    "\n",
    "model = keras.Sequential(\n",
    "    [\n",
    "        keras.Input((28,28,1)),\n",
    "        layers.Conv2D(32, 3, activation='relu'),\n",
    "        layers.Flatten(),\n",
    "        tf.keras.layers.Dense(10)\n",
    "    ]\n",
    ")"
   ]
  },
  {
   "cell_type": "code",
   "execution_count": 45,
   "metadata": {},
   "outputs": [],
   "source": [
    "save_callback = keras.callbacks.ModelCheckpoint(\n",
    "    'checkpoint/', save_weights_only=True, monitor='accuracy', save_best_only=False\n",
    ")"
   ]
  },
  {
   "cell_type": "code",
   "execution_count": 43,
   "metadata": {},
   "outputs": [],
   "source": [
    "model.compile(\n",
    "    optimizer=keras.optimizers.Adam(0.01),\n",
    "    loss=keras.losses.SparseCategoricalCrossentropy(from_logits=True),\n",
    "    metrics=['accuracy']\n",
    ")"
   ]
  },
  {
   "cell_type": "code",
   "execution_count": 46,
   "metadata": {},
   "outputs": [
    {
     "name": "stdout",
     "output_type": "stream",
     "text": [
      "Epoch 1/10\n",
      "1875/1875 - 32s - loss: 0.0200 - accuracy: 0.9948\n",
      "Epoch 2/10\n",
      "1875/1875 - 32s - loss: 0.0211 - accuracy: 0.9945\n",
      "Epoch 3/10\n",
      "1875/1875 - 26s - loss: 0.0204 - accuracy: 0.9948\n",
      "Epoch 4/10\n",
      "1875/1875 - 29s - loss: 0.0170 - accuracy: 0.9957\n",
      "Epoch 5/10\n",
      "1875/1875 - 26s - loss: 0.0179 - accuracy: 0.9960\n",
      "Epoch 6/10\n",
      "1875/1875 - 26s - loss: 0.0217 - accuracy: 0.9955\n",
      "Epoch 7/10\n",
      "1875/1875 - 25s - loss: 0.0162 - accuracy: 0.9966\n",
      "Epoch 8/10\n",
      "1875/1875 - 24s - loss: 0.0149 - accuracy: 0.9969\n",
      "Epoch 9/10\n",
      "1875/1875 - 23s - loss: 0.0149 - accuracy: 0.9967\n",
      "Epoch 10/10\n",
      "1875/1875 - 22s - loss: 0.0151 - accuracy: 0.9965\n"
     ]
    },
    {
     "data": {
      "text/plain": [
       "<tensorflow.python.keras.callbacks.History at 0x7ff70736b9a0>"
      ]
     },
     "execution_count": 46,
     "metadata": {},
     "output_type": "execute_result"
    }
   ],
   "source": [
    "model.fit(x_train, y_train, epochs=10, verbose=2, callbacks=[save_callback])"
   ]
  },
  {
   "cell_type": "code",
   "execution_count": null,
   "metadata": {},
   "outputs": [],
   "source": []
  },
  {
   "cell_type": "code",
   "execution_count": null,
   "metadata": {},
   "outputs": [],
   "source": []
  },
  {
   "cell_type": "code",
   "execution_count": null,
   "metadata": {},
   "outputs": [],
   "source": []
  },
  {
   "cell_type": "code",
   "execution_count": null,
   "metadata": {},
   "outputs": [],
   "source": []
  },
  {
   "cell_type": "code",
   "execution_count": null,
   "metadata": {},
   "outputs": [],
   "source": []
  },
  {
   "cell_type": "code",
   "execution_count": null,
   "metadata": {},
   "outputs": [],
   "source": []
  }
 ],
 "metadata": {
  "kernelspec": {
   "display_name": "Python 3",
   "language": "python",
   "name": "python3"
  },
  "language_info": {
   "codemirror_mode": {
    "name": "ipython",
    "version": 3
   },
   "file_extension": ".py",
   "mimetype": "text/x-python",
   "name": "python",
   "nbconvert_exporter": "python",
   "pygments_lexer": "ipython3",
   "version": "3.8.3"
  }
 },
 "nbformat": 4,
 "nbformat_minor": 4
}
